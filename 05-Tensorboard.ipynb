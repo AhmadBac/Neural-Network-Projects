{
 "cells": [
  {
   "cell_type": "markdown",
   "metadata": {},
   "source": [
    "<a href=\"https://www.pieriandata.com\"><img src=\"../Pierian_Data_Logo.PNG\"></a>\n",
    "<strong><center>Copyright by Pierian Data Inc.</center></strong> \n",
    "<strong><center>Created by Jose Marcial Portilla.</center></strong>"
   ]
  },
  {
   "cell_type": "markdown",
   "metadata": {},
   "source": [
    "# Tensorboard\n",
    "\n",
    "---\n",
    "---\n",
    "\n",
    "**NOTE: You must watch the corresponding video to understand this lecture. This notebook can't serve as a full guide. Please watch the video BEFORE posting questions to the QA forum.**\n",
    "\n",
    "---\n",
    "---\n",
    "\n",
    "Let's explore the built in data visualization capabilities that come with Tensorboard.\n",
    "\n",
    "Full official tutorial available here: https://www.tensorflow.org/tensorboard/get_started\n",
    "\n",
    "## Data"
   ]
  },
  {
   "cell_type": "code",
   "execution_count": 1,
   "metadata": {},
   "outputs": [],
   "source": [
    "import pandas as pd\n",
    "import numpy as np"
   ]
  },
  {
   "cell_type": "code",
   "execution_count": 2,
   "metadata": {},
   "outputs": [],
   "source": [
    "df = pd.read_csv('../DATA/cancer_classification.csv')"
   ]
  },
  {
   "cell_type": "markdown",
   "metadata": {},
   "source": [
    "### Train Test Split"
   ]
  },
  {
   "cell_type": "code",
   "execution_count": 3,
   "metadata": {},
   "outputs": [],
   "source": [
    "X = df.drop('benign_0__mal_1',axis=1).values\n",
    "y = df['benign_0__mal_1'].values"
   ]
  },
  {
   "cell_type": "code",
   "execution_count": 4,
   "metadata": {},
   "outputs": [],
   "source": [
    "from sklearn.model_selection import train_test_split"
   ]
  },
  {
   "cell_type": "code",
   "execution_count": 5,
   "metadata": {},
   "outputs": [],
   "source": [
    "X_train, X_test, y_train, y_test = train_test_split(X,y,test_size=0.25,random_state=101)"
   ]
  },
  {
   "cell_type": "markdown",
   "metadata": {},
   "source": [
    "\n",
    "### Scaling Data"
   ]
  },
  {
   "cell_type": "code",
   "execution_count": 6,
   "metadata": {},
   "outputs": [],
   "source": [
    "from sklearn.preprocessing import MinMaxScaler"
   ]
  },
  {
   "cell_type": "code",
   "execution_count": 7,
   "metadata": {},
   "outputs": [],
   "source": [
    "scaler = MinMaxScaler()"
   ]
  },
  {
   "cell_type": "code",
   "execution_count": 8,
   "metadata": {},
   "outputs": [
    {
     "data": {
      "text/plain": [
       "MinMaxScaler()"
      ]
     },
     "execution_count": 8,
     "metadata": {},
     "output_type": "execute_result"
    }
   ],
   "source": [
    "scaler.fit(X_train)"
   ]
  },
  {
   "cell_type": "code",
   "execution_count": 9,
   "metadata": {},
   "outputs": [],
   "source": [
    "X_train = scaler.transform(X_train)\n",
    "X_test = scaler.transform(X_test)"
   ]
  },
  {
   "cell_type": "markdown",
   "metadata": {},
   "source": [
    "## Creating the Model"
   ]
  },
  {
   "cell_type": "code",
   "execution_count": 10,
   "metadata": {},
   "outputs": [
    {
     "name": "stderr",
     "output_type": "stream",
     "text": [
      "C:\\Users\\aaa\\Anaconda3\\lib\\site-packages\\tensorflow\\python\\framework\\dtypes.py:523: FutureWarning: Passing (type, 1) or '1type' as a synonym of type is deprecated; in a future version of numpy, it will be understood as (type, (1,)) / '(1,)type'.\n",
      "  _np_qint8 = np.dtype([(\"qint8\", np.int8, 1)])\n",
      "C:\\Users\\aaa\\Anaconda3\\lib\\site-packages\\tensorflow\\python\\framework\\dtypes.py:524: FutureWarning: Passing (type, 1) or '1type' as a synonym of type is deprecated; in a future version of numpy, it will be understood as (type, (1,)) / '(1,)type'.\n",
      "  _np_quint8 = np.dtype([(\"quint8\", np.uint8, 1)])\n",
      "C:\\Users\\aaa\\Anaconda3\\lib\\site-packages\\tensorflow\\python\\framework\\dtypes.py:525: FutureWarning: Passing (type, 1) or '1type' as a synonym of type is deprecated; in a future version of numpy, it will be understood as (type, (1,)) / '(1,)type'.\n",
      "  _np_qint16 = np.dtype([(\"qint16\", np.int16, 1)])\n",
      "C:\\Users\\aaa\\Anaconda3\\lib\\site-packages\\tensorflow\\python\\framework\\dtypes.py:526: FutureWarning: Passing (type, 1) or '1type' as a synonym of type is deprecated; in a future version of numpy, it will be understood as (type, (1,)) / '(1,)type'.\n",
      "  _np_quint16 = np.dtype([(\"quint16\", np.uint16, 1)])\n",
      "C:\\Users\\aaa\\Anaconda3\\lib\\site-packages\\tensorflow\\python\\framework\\dtypes.py:527: FutureWarning: Passing (type, 1) or '1type' as a synonym of type is deprecated; in a future version of numpy, it will be understood as (type, (1,)) / '(1,)type'.\n",
      "  _np_qint32 = np.dtype([(\"qint32\", np.int32, 1)])\n",
      "C:\\Users\\aaa\\Anaconda3\\lib\\site-packages\\tensorflow\\python\\framework\\dtypes.py:532: FutureWarning: Passing (type, 1) or '1type' as a synonym of type is deprecated; in a future version of numpy, it will be understood as (type, (1,)) / '(1,)type'.\n",
      "  np_resource = np.dtype([(\"resource\", np.ubyte, 1)])\n",
      "C:\\Users\\aaa\\Anaconda3\\lib\\site-packages\\tensorboard\\compat\\tensorflow_stub\\dtypes.py:541: FutureWarning: Passing (type, 1) or '1type' as a synonym of type is deprecated; in a future version of numpy, it will be understood as (type, (1,)) / '(1,)type'.\n",
      "  _np_qint8 = np.dtype([(\"qint8\", np.int8, 1)])\n",
      "C:\\Users\\aaa\\Anaconda3\\lib\\site-packages\\tensorboard\\compat\\tensorflow_stub\\dtypes.py:542: FutureWarning: Passing (type, 1) or '1type' as a synonym of type is deprecated; in a future version of numpy, it will be understood as (type, (1,)) / '(1,)type'.\n",
      "  _np_quint8 = np.dtype([(\"quint8\", np.uint8, 1)])\n",
      "C:\\Users\\aaa\\Anaconda3\\lib\\site-packages\\tensorboard\\compat\\tensorflow_stub\\dtypes.py:543: FutureWarning: Passing (type, 1) or '1type' as a synonym of type is deprecated; in a future version of numpy, it will be understood as (type, (1,)) / '(1,)type'.\n",
      "  _np_qint16 = np.dtype([(\"qint16\", np.int16, 1)])\n",
      "C:\\Users\\aaa\\Anaconda3\\lib\\site-packages\\tensorboard\\compat\\tensorflow_stub\\dtypes.py:544: FutureWarning: Passing (type, 1) or '1type' as a synonym of type is deprecated; in a future version of numpy, it will be understood as (type, (1,)) / '(1,)type'.\n",
      "  _np_quint16 = np.dtype([(\"quint16\", np.uint16, 1)])\n",
      "C:\\Users\\aaa\\Anaconda3\\lib\\site-packages\\tensorboard\\compat\\tensorflow_stub\\dtypes.py:545: FutureWarning: Passing (type, 1) or '1type' as a synonym of type is deprecated; in a future version of numpy, it will be understood as (type, (1,)) / '(1,)type'.\n",
      "  _np_qint32 = np.dtype([(\"qint32\", np.int32, 1)])\n",
      "C:\\Users\\aaa\\Anaconda3\\lib\\site-packages\\tensorboard\\compat\\tensorflow_stub\\dtypes.py:550: FutureWarning: Passing (type, 1) or '1type' as a synonym of type is deprecated; in a future version of numpy, it will be understood as (type, (1,)) / '(1,)type'.\n",
      "  np_resource = np.dtype([(\"resource\", np.ubyte, 1)])\n"
     ]
    }
   ],
   "source": [
    "import tensorflow as tf\n",
    "from tensorflow.keras.models import Sequential\n",
    "from tensorflow.keras.layers import Dense, Activation,Dropout"
   ]
  },
  {
   "cell_type": "code",
   "execution_count": 11,
   "metadata": {},
   "outputs": [],
   "source": [
    "from tensorflow.keras.callbacks import EarlyStopping,TensorBoard"
   ]
  },
  {
   "cell_type": "code",
   "execution_count": 12,
   "metadata": {},
   "outputs": [],
   "source": [
    "early_stop = EarlyStopping(monitor='val_loss', mode='min', verbose=1, patience=25)"
   ]
  },
  {
   "cell_type": "code",
   "execution_count": 13,
   "metadata": {},
   "outputs": [
    {
     "data": {
      "text/plain": [
       "'C:\\\\Users\\\\aaa\\\\Desktop\\\\RL\\\\03-ANNs'"
      ]
     },
     "execution_count": 13,
     "metadata": {},
     "output_type": "execute_result"
    }
   ],
   "source": [
    "pwd"
   ]
  },
  {
   "cell_type": "markdown",
   "metadata": {},
   "source": [
    "## Creating the Tensorboard Callback\n",
    "\n",
    "TensorBoard is a visualization tool provided with TensorFlow.\n",
    "\n",
    "This callback logs events for TensorBoard, including:\n",
    "* Metrics summary plots\n",
    "* Training graph visualization\n",
    "* Activation histograms\n",
    "* Sampled profiling\n",
    "\n",
    "If you have installed TensorFlow with pip, you should be able\n",
    "to launch TensorBoard from the command line:\n",
    "\n",
    "```sh\n",
    "tensorboard --logdir=path_to_your_logs\n",
    "```\n",
    "\n",
    "You can find more information about TensorBoard\n",
    "[here](https://www.tensorflow.org/tensorboard/).\n",
    "\n",
    "    Arguments:\n",
    "        log_dir: the path of the directory where to save the log files to be\n",
    "          parsed by TensorBoard.\n",
    "        histogram_freq: frequency (in epochs) at which to compute activation and\n",
    "          weight histograms for the layers of the model. If set to 0, histograms\n",
    "          won't be computed. Validation data (or split) must be specified for\n",
    "          histogram visualizations.\n",
    "        write_graph: whether to visualize the graph in TensorBoard. The log file\n",
    "          can become quite large when write_graph is set to True.\n",
    "        write_images: whether to write model weights to visualize as image in\n",
    "          TensorBoard.\n",
    "        update_freq: `'batch'` or `'epoch'` or integer. When using `'batch'`,\n",
    "          writes the losses and metrics to TensorBoard after each batch. The same\n",
    "          applies for `'epoch'`. If using an integer, let's say `1000`, the\n",
    "          callback will write the metrics and losses to TensorBoard every 1000\n",
    "          samples. Note that writing too frequently to TensorBoard can slow down\n",
    "          your training.\n",
    "        profile_batch: Profile the batch to sample compute characteristics. By\n",
    "          default, it will profile the second batch. Set profile_batch=0 to\n",
    "          disable profiling. Must run in TensorFlow eager mode.\n",
    "        embeddings_freq: frequency (in epochs) at which embedding layers will\n",
    "          be visualized. If set to 0, embeddings won't be visualized.\n",
    "       "
   ]
  },
  {
   "cell_type": "code",
   "execution_count": 14,
   "metadata": {},
   "outputs": [],
   "source": [
    "from datetime import datetime"
   ]
  },
  {
   "cell_type": "code",
   "execution_count": 15,
   "metadata": {},
   "outputs": [
    {
     "data": {
      "text/plain": [
       "'2019-11-14--1910'"
      ]
     },
     "execution_count": 15,
     "metadata": {},
     "output_type": "execute_result"
    }
   ],
   "source": [
    "datetime.now().strftime(\"%Y-%m-%d--%H%M\")"
   ]
  },
  {
   "cell_type": "code",
   "execution_count": 14,
   "metadata": {},
   "outputs": [
    {
     "name": "stdout",
     "output_type": "stream",
     "text": [
      "WARNING:tensorflow:Embeddings will be ignored in TensorFlow 2.0 for the `TensorBoard` Callback.\n"
     ]
    }
   ],
   "source": [
    "# WINDOWS: Use \"logs\\\\fit\"\n",
    "# MACOS/LINUX: Use \"logs\\fit\"\n",
    "\n",
    "log_directory = 'logs\\\\fit'\n",
    "\n",
    "# OPTIONAL: ADD A TIMESTAMP FOR UNIQUE FOLDER\n",
    "# timestamp = datetime.now().strftime(\"%Y-%m-%d--%H%M\")\n",
    "# log_directory = log_directory + '\\\\' + timestamp\n",
    "\n",
    "\n",
    "board = TensorBoard(log_dir=log_directory,histogram_freq=1,\n",
    "    write_graph=True,\n",
    "    write_images=True,\n",
    "    update_freq='epoch',\n",
    "    profile_batch=2,\n",
    "    embeddings_freq=1)"
   ]
  },
  {
   "cell_type": "markdown",
   "metadata": {},
   "source": [
    "Now create the model layers:"
   ]
  },
  {
   "cell_type": "code",
   "execution_count": 15,
   "metadata": {},
   "outputs": [],
   "source": [
    "model = Sequential()\n",
    "model.add(Dense(units=30,activation='relu'))\n",
    "model.add(Dropout(0.5))\n",
    "model.add(Dense(units=15,activation='relu'))\n",
    "model.add(Dropout(0.5))\n",
    "model.add(Dense(units=1,activation='sigmoid'))\n",
    "model.compile(loss='binary_crossentropy', optimizer='adam')"
   ]
  },
  {
   "cell_type": "markdown",
   "metadata": {},
   "source": [
    "## Train the Model"
   ]
  },
  {
   "cell_type": "code",
   "execution_count": 16,
   "metadata": {},
   "outputs": [
    {
     "name": "stdout",
     "output_type": "stream",
     "text": [
      "Train on 426 samples, validate on 143 samples\n",
      "Epoch 1/600\n",
      "426/426 [==============================] - 1s 3ms/sample - loss: 0.7154 - val_loss: 0.6701\n",
      "Epoch 2/600\n",
      "426/426 [==============================] - 0s 184us/sample - loss: 0.6855 - val_loss: 0.6523\n",
      "Epoch 3/600\n",
      "426/426 [==============================] - 0s 242us/sample - loss: 0.6646 - val_loss: 0.6358\n",
      "Epoch 4/600\n",
      "426/426 [==============================] - ETA: 0s - loss: 0.662 - 0s 215us/sample - loss: 0.6570 - val_loss: 0.6183\n",
      "Epoch 5/600\n",
      "426/426 [==============================] - 0s 352us/sample - loss: 0.6302 - val_loss: 0.5979\n",
      "Epoch 6/600\n",
      "426/426 [==============================] - 0s 429us/sample - loss: 0.6049 - val_loss: 0.5755\n",
      "Epoch 7/600\n",
      "426/426 [==============================] - 0s 361us/sample - loss: 0.5967 - val_loss: 0.5506\n",
      "Epoch 8/600\n",
      "426/426 [==============================] - 0s 224us/sample - loss: 0.5728 - val_loss: 0.5239\n",
      "Epoch 9/600\n",
      "426/426 [==============================] - 0s 187us/sample - loss: 0.5592 - val_loss: 0.4990\n",
      "Epoch 10/600\n",
      "426/426 [==============================] - 0s 247us/sample - loss: 0.5241 - val_loss: 0.4691\n",
      "Epoch 11/600\n",
      "426/426 [==============================] - 0s 411us/sample - loss: 0.5251 - val_loss: 0.4415\n",
      "Epoch 12/600\n",
      "426/426 [==============================] - 0s 250us/sample - loss: 0.4792 - val_loss: 0.4215\n",
      "Epoch 13/600\n",
      "426/426 [==============================] - 0s 167us/sample - loss: 0.4592 - val_loss: 0.3916\n",
      "Epoch 14/600\n",
      "426/426 [==============================] - 0s 206us/sample - loss: 0.4533 - val_loss: 0.3693\n",
      "Epoch 15/600\n",
      "426/426 [==============================] - 0s 194us/sample - loss: 0.4287 - val_loss: 0.3460\n",
      "Epoch 16/600\n",
      "426/426 [==============================] - 0s 193us/sample - loss: 0.4186 - val_loss: 0.3237\n",
      "Epoch 17/600\n",
      "426/426 [==============================] - 0s 434us/sample - loss: 0.4196 - val_loss: 0.3089\n",
      "Epoch 18/600\n",
      "426/426 [==============================] - 0s 243us/sample - loss: 0.3717 - val_loss: 0.2935\n",
      "Epoch 19/600\n",
      "426/426 [==============================] - 0s 240us/sample - loss: 0.3754 - val_loss: 0.2757\n",
      "Epoch 20/600\n",
      "426/426 [==============================] - 0s 320us/sample - loss: 0.3543 - val_loss: 0.2637\n",
      "Epoch 21/600\n",
      "426/426 [==============================] - 0s 258us/sample - loss: 0.3184 - val_loss: 0.2523\n",
      "Epoch 22/600\n",
      "426/426 [==============================] - 0s 179us/sample - loss: 0.3329 - val_loss: 0.2355\n",
      "Epoch 23/600\n",
      "426/426 [==============================] - 0s 188us/sample - loss: 0.3282 - val_loss: 0.2238\n",
      "Epoch 24/600\n",
      "426/426 [==============================] - 0s 196us/sample - loss: 0.3005 - val_loss: 0.2105\n",
      "Epoch 25/600\n",
      "426/426 [==============================] - 0s 202us/sample - loss: 0.3249 - val_loss: 0.2028\n",
      "Epoch 26/600\n",
      "426/426 [==============================] - 0s 207us/sample - loss: 0.3045 - val_loss: 0.1955\n",
      "Epoch 27/600\n",
      "426/426 [==============================] - 0s 338us/sample - loss: 0.2603 - val_loss: 0.1864\n",
      "Epoch 28/600\n",
      "426/426 [==============================] - 0s 237us/sample - loss: 0.2673 - val_loss: 0.1802\n",
      "Epoch 29/600\n",
      "426/426 [==============================] - 0s 242us/sample - loss: 0.2553 - val_loss: 0.1697\n",
      "Epoch 30/600\n",
      "426/426 [==============================] - 0s 179us/sample - loss: 0.2364 - val_loss: 0.1640\n",
      "Epoch 31/600\n",
      "426/426 [==============================] - 0s 182us/sample - loss: 0.2477 - val_loss: 0.1567\n",
      "Epoch 32/600\n",
      "426/426 [==============================] - 0s 390us/sample - loss: 0.2383 - val_loss: 0.1540\n",
      "Epoch 33/600\n",
      "426/426 [==============================] - 0s 324us/sample - loss: 0.2384 - val_loss: 0.1464\n",
      "Epoch 34/600\n",
      "426/426 [==============================] - 0s 303us/sample - loss: 0.2286 - val_loss: 0.1448\n",
      "Epoch 35/600\n",
      "426/426 [==============================] - 0s 216us/sample - loss: 0.2290 - val_loss: 0.1492\n",
      "Epoch 36/600\n",
      "426/426 [==============================] - 0s 239us/sample - loss: 0.2217 - val_loss: 0.1384\n",
      "Epoch 37/600\n",
      "426/426 [==============================] - 0s 160us/sample - loss: 0.2345 - val_loss: 0.1431\n",
      "Epoch 38/600\n",
      "426/426 [==============================] - 0s 200us/sample - loss: 0.2082 - val_loss: 0.1357\n",
      "Epoch 39/600\n",
      "426/426 [==============================] - 0s 204us/sample - loss: 0.2317 - val_loss: 0.1417\n",
      "Epoch 40/600\n",
      "426/426 [==============================] - 0s 403us/sample - loss: 0.2277 - val_loss: 0.1536\n",
      "Epoch 41/600\n",
      "426/426 [==============================] - 0s 391us/sample - loss: 0.1861 - val_loss: 0.1316\n",
      "Epoch 42/600\n",
      "426/426 [==============================] - 0s 540us/sample - loss: 0.2108 - val_loss: 0.1246\n",
      "Epoch 43/600\n",
      "426/426 [==============================] - 0s 380us/sample - loss: 0.2028 - val_loss: 0.1361\n",
      "Epoch 44/600\n",
      "426/426 [==============================] - 0s 233us/sample - loss: 0.1743 - val_loss: 0.1315\n",
      "Epoch 45/600\n",
      "426/426 [==============================] - 0s 332us/sample - loss: 0.2054 - val_loss: 0.1184\n",
      "Epoch 46/600\n",
      "426/426 [==============================] - 0s 232us/sample - loss: 0.1986 - val_loss: 0.1204\n",
      "Epoch 47/600\n",
      "426/426 [==============================] - 0s 139us/sample - loss: 0.1763 - val_loss: 0.1247\n",
      "Epoch 48/600\n",
      "426/426 [==============================] - 0s 158us/sample - loss: 0.1969 - val_loss: 0.1142\n",
      "Epoch 49/600\n",
      "426/426 [==============================] - 0s 227us/sample - loss: 0.1681 - val_loss: 0.1188\n",
      "Epoch 50/600\n",
      "426/426 [==============================] - 0s 122us/sample - loss: 0.1713 - val_loss: 0.1148\n",
      "Epoch 51/600\n",
      "426/426 [==============================] - 0s 111us/sample - loss: 0.1678 - val_loss: 0.1143\n",
      "Epoch 52/600\n",
      "426/426 [==============================] - 0s 119us/sample - loss: 0.1660 - val_loss: 0.1115\n",
      "Epoch 53/600\n",
      "426/426 [==============================] - 0s 109us/sample - loss: 0.1547 - val_loss: 0.1113\n",
      "Epoch 54/600\n",
      "426/426 [==============================] - 0s 124us/sample - loss: 0.1743 - val_loss: 0.1056\n",
      "Epoch 55/600\n",
      "426/426 [==============================] - 0s 138us/sample - loss: 0.1540 - val_loss: 0.1110\n",
      "Epoch 56/600\n",
      "426/426 [==============================] - 0s 128us/sample - loss: 0.1489 - val_loss: 0.1086\n",
      "Epoch 57/600\n",
      "426/426 [==============================] - 0s 116us/sample - loss: 0.1532 - val_loss: 0.1085\n",
      "Epoch 58/600\n",
      "426/426 [==============================] - 0s 113us/sample - loss: 0.1483 - val_loss: 0.1159\n",
      "Epoch 59/600\n",
      "426/426 [==============================] - 0s 137us/sample - loss: 0.1496 - val_loss: 0.1071\n",
      "Epoch 60/600\n",
      "426/426 [==============================] - 0s 204us/sample - loss: 0.1306 - val_loss: 0.1082\n",
      "Epoch 61/600\n",
      "426/426 [==============================] - 0s 250us/sample - loss: 0.1373 - val_loss: 0.1006\n",
      "Epoch 62/600\n",
      "426/426 [==============================] - 0s 519us/sample - loss: 0.1359 - val_loss: 0.1039\n",
      "Epoch 63/600\n",
      "426/426 [==============================] - 0s 416us/sample - loss: 0.1664 - val_loss: 0.1131\n",
      "Epoch 64/600\n",
      "426/426 [==============================] - 0s 324us/sample - loss: 0.1688 - val_loss: 0.1024\n",
      "Epoch 65/600\n",
      "426/426 [==============================] - 0s 136us/sample - loss: 0.1419 - val_loss: 0.1071\n",
      "Epoch 66/600\n",
      "426/426 [==============================] - 0s 207us/sample - loss: 0.1397 - val_loss: 0.1019\n",
      "Epoch 67/600\n",
      "426/426 [==============================] - 0s 459us/sample - loss: 0.1299 - val_loss: 0.1047\n",
      "Epoch 68/600\n",
      "426/426 [==============================] - 0s 189us/sample - loss: 0.1396 - val_loss: 0.1020\n",
      "Epoch 69/600\n",
      "426/426 [==============================] - 0s 202us/sample - loss: 0.1373 - val_loss: 0.0971\n",
      "Epoch 70/600\n",
      "426/426 [==============================] - 0s 172us/sample - loss: 0.1332 - val_loss: 0.1089\n",
      "Epoch 71/600\n",
      "426/426 [==============================] - 0s 207us/sample - loss: 0.1543 - val_loss: 0.0975\n",
      "Epoch 72/600\n",
      "426/426 [==============================] - 0s 145us/sample - loss: 0.1648 - val_loss: 0.0956\n",
      "Epoch 73/600\n",
      "426/426 [==============================] - 0s 131us/sample - loss: 0.1111 - val_loss: 0.0963\n",
      "Epoch 74/600\n",
      "426/426 [==============================] - 0s 153us/sample - loss: 0.1284 - val_loss: 0.1061\n",
      "Epoch 75/600\n",
      "426/426 [==============================] - 0s 150us/sample - loss: 0.1381 - val_loss: 0.0997\n",
      "Epoch 76/600\n",
      "426/426 [==============================] - 0s 134us/sample - loss: 0.1609 - val_loss: 0.0968\n",
      "Epoch 77/600\n"
     ]
    },
    {
     "name": "stdout",
     "output_type": "stream",
     "text": [
      "426/426 [==============================] - 0s 125us/sample - loss: 0.1285 - val_loss: 0.1045\n",
      "Epoch 78/600\n",
      "426/426 [==============================] - 0s 191us/sample - loss: 0.1237 - val_loss: 0.0968\n",
      "Epoch 79/600\n",
      "426/426 [==============================] - 0s 193us/sample - loss: 0.1379 - val_loss: 0.1040\n",
      "Epoch 80/600\n",
      "426/426 [==============================] - 0s 204us/sample - loss: 0.1017 - val_loss: 0.0931\n",
      "Epoch 81/600\n",
      "426/426 [==============================] - 0s 239us/sample - loss: 0.1231 - val_loss: 0.0952\n",
      "Epoch 82/600\n",
      "426/426 [==============================] - 0s 200us/sample - loss: 0.1279 - val_loss: 0.0961\n",
      "Epoch 83/600\n",
      "426/426 [==============================] - 0s 274us/sample - loss: 0.1111 - val_loss: 0.1055\n",
      "Epoch 84/600\n",
      "426/426 [==============================] - 0s 204us/sample - loss: 0.1203 - val_loss: 0.0989\n",
      "Epoch 85/600\n",
      "426/426 [==============================] - 0s 207us/sample - loss: 0.1105 - val_loss: 0.0922\n",
      "Epoch 86/600\n",
      "426/426 [==============================] - 0s 255us/sample - loss: 0.1213 - val_loss: 0.0913\n",
      "Epoch 87/600\n",
      "426/426 [==============================] - 0s 178us/sample - loss: 0.1377 - val_loss: 0.0944\n",
      "Epoch 88/600\n",
      "426/426 [==============================] - 0s 195us/sample - loss: 0.1102 - val_loss: 0.0960\n",
      "Epoch 89/600\n",
      "426/426 [==============================] - 0s 119us/sample - loss: 0.1053 - val_loss: 0.0968\n",
      "Epoch 90/600\n",
      "426/426 [==============================] - 0s 130us/sample - loss: 0.1200 - val_loss: 0.1054\n",
      "Epoch 91/600\n",
      "426/426 [==============================] - 0s 197us/sample - loss: 0.1132 - val_loss: 0.0980\n",
      "Epoch 92/600\n",
      "426/426 [==============================] - 0s 173us/sample - loss: 0.0973 - val_loss: 0.0932\n",
      "Epoch 93/600\n",
      "426/426 [==============================] - 0s 303us/sample - loss: 0.1012 - val_loss: 0.1089\n",
      "Epoch 94/600\n",
      "426/426 [==============================] - 0s 135us/sample - loss: 0.1126 - val_loss: 0.1015\n",
      "Epoch 95/600\n",
      "426/426 [==============================] - 0s 129us/sample - loss: 0.1014 - val_loss: 0.0922\n",
      "Epoch 96/600\n",
      "426/426 [==============================] - 0s 117us/sample - loss: 0.1094 - val_loss: 0.1052\n",
      "Epoch 97/600\n",
      "426/426 [==============================] - 0s 114us/sample - loss: 0.1311 - val_loss: 0.0955\n",
      "Epoch 98/600\n",
      "426/426 [==============================] - 0s 116us/sample - loss: 0.1183 - val_loss: 0.0981\n",
      "Epoch 99/600\n",
      "426/426 [==============================] - 0s 118us/sample - loss: 0.0997 - val_loss: 0.0985\n",
      "Epoch 100/600\n",
      "426/426 [==============================] - 0s 119us/sample - loss: 0.1122 - val_loss: 0.0960\n",
      "Epoch 101/600\n",
      "426/426 [==============================] - 0s 125us/sample - loss: 0.1112 - val_loss: 0.1061\n",
      "Epoch 102/600\n",
      "426/426 [==============================] - 0s 146us/sample - loss: 0.1055 - val_loss: 0.1132\n",
      "Epoch 103/600\n",
      "426/426 [==============================] - 0s 127us/sample - loss: 0.1073 - val_loss: 0.0951\n",
      "Epoch 104/600\n",
      "426/426 [==============================] - 0s 130us/sample - loss: 0.0883 - val_loss: 0.0940\n",
      "Epoch 105/600\n",
      "426/426 [==============================] - 0s 134us/sample - loss: 0.1167 - val_loss: 0.1000\n",
      "Epoch 106/600\n",
      "426/426 [==============================] - 0s 143us/sample - loss: 0.1056 - val_loss: 0.0973\n",
      "Epoch 107/600\n",
      "426/426 [==============================] - 0s 126us/sample - loss: 0.0990 - val_loss: 0.1032\n",
      "Epoch 108/600\n",
      "426/426 [==============================] - 0s 148us/sample - loss: 0.1167 - val_loss: 0.0956\n",
      "Epoch 109/600\n",
      "426/426 [==============================] - 0s 142us/sample - loss: 0.1043 - val_loss: 0.0903\n",
      "Epoch 110/600\n",
      "426/426 [==============================] - 0s 156us/sample - loss: 0.1066 - val_loss: 0.0986\n",
      "Epoch 111/600\n",
      "426/426 [==============================] - 0s 120us/sample - loss: 0.0952 - val_loss: 0.1013\n",
      "Epoch 112/600\n",
      "426/426 [==============================] - 0s 174us/sample - loss: 0.0833 - val_loss: 0.0973\n",
      "Epoch 113/600\n",
      "426/426 [==============================] - 0s 178us/sample - loss: 0.1015 - val_loss: 0.1004\n",
      "Epoch 114/600\n",
      "426/426 [==============================] - 0s 138us/sample - loss: 0.1079 - val_loss: 0.0946\n",
      "Epoch 115/600\n",
      "426/426 [==============================] - 0s 162us/sample - loss: 0.0990 - val_loss: 0.0948\n",
      "Epoch 116/600\n",
      "426/426 [==============================] - 0s 175us/sample - loss: 0.0935 - val_loss: 0.1054\n",
      "Epoch 117/600\n",
      "426/426 [==============================] - 0s 155us/sample - loss: 0.1257 - val_loss: 0.0901\n",
      "Epoch 118/600\n",
      "426/426 [==============================] - 0s 216us/sample - loss: 0.1199 - val_loss: 0.0925\n",
      "Epoch 119/600\n",
      "426/426 [==============================] - 0s 149us/sample - loss: 0.1026 - val_loss: 0.0874\n",
      "Epoch 120/600\n",
      "426/426 [==============================] - 0s 138us/sample - loss: 0.0852 - val_loss: 0.0926\n",
      "Epoch 121/600\n",
      "426/426 [==============================] - 0s 128us/sample - loss: 0.0826 - val_loss: 0.0910\n",
      "Epoch 122/600\n",
      "426/426 [==============================] - 0s 162us/sample - loss: 0.1054 - val_loss: 0.1069\n",
      "Epoch 123/600\n",
      "426/426 [==============================] - 0s 213us/sample - loss: 0.1019 - val_loss: 0.0887\n",
      "Epoch 124/600\n",
      "426/426 [==============================] - 0s 154us/sample - loss: 0.0706 - val_loss: 0.0862\n",
      "Epoch 125/600\n",
      "426/426 [==============================] - 0s 138us/sample - loss: 0.0887 - val_loss: 0.1006\n",
      "Epoch 126/600\n",
      "426/426 [==============================] - 0s 134us/sample - loss: 0.0708 - val_loss: 0.1016\n",
      "Epoch 127/600\n",
      "426/426 [==============================] - 0s 157us/sample - loss: 0.0870 - val_loss: 0.0944\n",
      "Epoch 128/600\n",
      "426/426 [==============================] - 0s 183us/sample - loss: 0.1034 - val_loss: 0.0927\n",
      "Epoch 129/600\n",
      "426/426 [==============================] - 0s 186us/sample - loss: 0.0860 - val_loss: 0.0988\n",
      "Epoch 130/600\n",
      "426/426 [==============================] - 0s 143us/sample - loss: 0.0847 - val_loss: 0.0858\n",
      "Epoch 131/600\n",
      "426/426 [==============================] - 0s 208us/sample - loss: 0.0856 - val_loss: 0.0869\n",
      "Epoch 132/600\n",
      "426/426 [==============================] - 0s 366us/sample - loss: 0.0769 - val_loss: 0.1024\n",
      "Epoch 133/600\n",
      "426/426 [==============================] - 0s 177us/sample - loss: 0.0868 - val_loss: 0.0953\n",
      "Epoch 134/600\n",
      "426/426 [==============================] - 0s 320us/sample - loss: 0.0975 - val_loss: 0.0890\n",
      "Epoch 135/600\n",
      "426/426 [==============================] - 0s 140us/sample - loss: 0.1000 - val_loss: 0.0987\n",
      "Epoch 136/600\n",
      "426/426 [==============================] - 0s 176us/sample - loss: 0.0844 - val_loss: 0.0876\n",
      "Epoch 137/600\n",
      "426/426 [==============================] - 0s 425us/sample - loss: 0.0866 - val_loss: 0.0999\n",
      "Epoch 138/600\n",
      "426/426 [==============================] - 0s 375us/sample - loss: 0.0908 - val_loss: 0.1013\n",
      "Epoch 139/600\n",
      "426/426 [==============================] - 0s 391us/sample - loss: 0.0866 - val_loss: 0.0908\n",
      "Epoch 140/600\n",
      "426/426 [==============================] - 0s 373us/sample - loss: 0.1026 - val_loss: 0.1120\n",
      "Epoch 141/600\n",
      "426/426 [==============================] - 0s 193us/sample - loss: 0.0872 - val_loss: 0.1002\n",
      "Epoch 142/600\n",
      "426/426 [==============================] - 0s 206us/sample - loss: 0.0774 - val_loss: 0.0920\n",
      "Epoch 143/600\n",
      "426/426 [==============================] - 0s 238us/sample - loss: 0.0951 - val_loss: 0.1065\n",
      "Epoch 144/600\n",
      "426/426 [==============================] - 0s 169us/sample - loss: 0.0913 - val_loss: 0.0895\n",
      "Epoch 145/600\n",
      "426/426 [==============================] - 0s 176us/sample - loss: 0.1033 - val_loss: 0.0983\n",
      "Epoch 146/600\n",
      "426/426 [==============================] - 0s 361us/sample - loss: 0.0861 - val_loss: 0.1196\n",
      "Epoch 147/600\n",
      "426/426 [==============================] - 0s 404us/sample - loss: 0.0695 - val_loss: 0.0974\n",
      "Epoch 148/600\n",
      "426/426 [==============================] - 0s 275us/sample - loss: 0.0874 - val_loss: 0.0931\n",
      "Epoch 149/600\n",
      "426/426 [==============================] - 0s 198us/sample - loss: 0.0832 - val_loss: 0.0998\n",
      "Epoch 150/600\n",
      "426/426 [==============================] - 0s 353us/sample - loss: 0.0726 - val_loss: 0.1013\n",
      "Epoch 151/600\n",
      "426/426 [==============================] - 0s 266us/sample - loss: 0.0726 - val_loss: 0.0917\n",
      "Epoch 152/600\n",
      "426/426 [==============================] - 0s 173us/sample - loss: 0.0877 - val_loss: 0.0978\n",
      "Epoch 153/600\n",
      "426/426 [==============================] - 0s 211us/sample - loss: 0.0698 - val_loss: 0.0904\n"
     ]
    },
    {
     "name": "stdout",
     "output_type": "stream",
     "text": [
      "Epoch 154/600\n",
      "426/426 [==============================] - 0s 347us/sample - loss: 0.0775 - val_loss: 0.0926\n",
      "Epoch 155/600\n",
      "426/426 [==============================] - 0s 380us/sample - loss: 0.0891 - val_loss: 0.1008\n",
      "Epoch 00155: early stopping\n"
     ]
    },
    {
     "data": {
      "text/plain": [
       "<tensorflow.python.keras.callbacks.History at 0x130a6317ac8>"
      ]
     },
     "execution_count": 16,
     "metadata": {},
     "output_type": "execute_result"
    }
   ],
   "source": [
    "model.fit(x=X_train, \n",
    "          y=y_train, \n",
    "          epochs=600,\n",
    "          validation_data=(X_test, y_test), verbose=1,\n",
    "          callbacks=[early_stop,board]\n",
    "          )"
   ]
  },
  {
   "cell_type": "markdown",
   "metadata": {},
   "source": [
    "# Running Tensorboard\n"
   ]
  },
  {
   "cell_type": "markdown",
   "metadata": {},
   "source": [
    "## Running through the Command Line\n",
    "\n",
    "**Watch video to see how to run Tensorboard through a command line call.**"
   ]
  },
  {
   "cell_type": "markdown",
   "metadata": {},
   "source": [
    "Tensorboard will run locally in your browser at [http://localhost:6006/](http://localhost:6006/)\n"
   ]
  },
  {
   "cell_type": "code",
   "execution_count": 17,
   "metadata": {},
   "outputs": [
    {
     "name": "stdout",
     "output_type": "stream",
     "text": [
      "logs\\fit\n"
     ]
    }
   ],
   "source": [
    "print(log_directory)"
   ]
  },
  {
   "cell_type": "code",
   "execution_count": 20,
   "metadata": {},
   "outputs": [
    {
     "data": {
      "text/plain": [
       "'C:\\\\Users\\\\Marcial\\\\Pierian-Data-Courses\\\\TensorFlow-Two-Bootcamp\\\\03-ANNs'"
      ]
     },
     "execution_count": 20,
     "metadata": {},
     "output_type": "execute_result"
    }
   ],
   "source": [
    "pwd"
   ]
  },
  {
   "cell_type": "markdown",
   "metadata": {},
   "source": [
    "### Use cd at your command line to change directory to the file path reported back by pwd or your current .py file location.\n",
    "### Then run this code at your command line or terminal"
   ]
  },
  {
   "cell_type": "code",
   "execution_count": null,
   "metadata": {},
   "outputs": [],
   "source": [
    "tensorboard --logdir logs\\fit "
   ]
  }
 ],
 "metadata": {
  "kernelspec": {
   "display_name": "Python 3",
   "language": "python",
   "name": "python3"
  },
  "language_info": {
   "codemirror_mode": {
    "name": "ipython",
    "version": 3
   },
   "file_extension": ".py",
   "mimetype": "text/x-python",
   "name": "python",
   "nbconvert_exporter": "python",
   "pygments_lexer": "ipython3",
   "version": "3.7.10"
  }
 },
 "nbformat": 4,
 "nbformat_minor": 2
}
